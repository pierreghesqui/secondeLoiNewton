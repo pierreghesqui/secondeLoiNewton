{
 "cells": [
  {
   "cell_type": "markdown",
   "id": "4dd3bebc",
   "metadata": {},
   "source": [
    "## Mesure de l'intensité de pesanteur\n",
    "Il est écrit dans les livres de physique que l'intensité de pesanteur vaut $g = 9,81 m\\cdot s^{-2}$.<br>\n",
    "Dans ce TP, nous allons mesurer l'intensité de pesanteur expérimentalement pour vérifier si la valeur ci-dessus est conforme."
   ]
  },
  {
   "cell_type": "markdown",
   "id": "359f5a51",
   "metadata": {},
   "source": [
    "## Etape 1 - Travail préliminaire : "
   ]
  },
  {
   "attachments": {},
   "cell_type": "markdown",
   "id": "a596b981",
   "metadata": {},
   "source": [
    "Prends une feuille pour répondre à la question suivante : <br>\n",
    "✍️ **Démontrer en appliquant la seconde loi de Newton que** \n",
    "$g = \\frac{\\Delta v}{\\Delta t}$"
   ]
  },
  {
   "cell_type": "markdown",
   "id": "31b916cc",
   "metadata": {},
   "source": [
    "## Etape 2 - Ecrire les mesures : \n",
    "Commençons par écrire les valeurs de positions de la balle au cours du temps"
   ]
  },
  {
   "cell_type": "markdown",
   "id": "ae119566",
   "metadata": {},
   "source": [
    "✍️ **Complète le code ci-dessous en respectant les instructions**"
   ]
  },
  {
   "cell_type": "code",
   "execution_count": 37,
   "id": "22c8cfcf",
   "metadata": {},
   "outputs": [
    {
     "name": "stdout",
     "output_type": "stream",
     "text": [
      "Liste des positions : z =   [ 0.     -0.0063 -0.0268 -0.0567 -0.096  -0.148  -0.209  -0.283  -0.368\n",
      " -0.463  -0.564 ]\n",
      "La durée séparant 2 positions successives vaut: deltat =   0.03333  s\n",
      "Le nombre de mesures vaut :  11\n"
     ]
    }
   ],
   "source": [
    "import numpy as np #NE PAS MODIFIER CETTE LIGNE. Cette ligne importe les extensions python pour faire des calculs\n",
    "\n",
    "z = np.array([0, -0.0063, -0.0268, -0.0567, -0.0960, -0.1480, -0.2090, -0.2830, -0.3680, -0.4630, -0.5640   ]) \n",
    "          #Remplace les valeurs ci-dessus par celles que tu as trouvé grâce à AVIMECA \n",
    "          #Assure-toi que les valeurs sont bien écrites en mètre (et non pas en cm)\n",
    "\n",
    "deltat =0.03333  #Complète cette ligne en indiquant la durée (en seconde) séparant deux positions successives de la balle          \n",
    "nbMesures = np.size(z) #NE PAS MODIFIER CETTE LIGNE. Elle calcule le nombre de mesures que tu as écrites dans z\n",
    "\n",
    "print(\"Liste des positions : z =  \", z) #NE PAS MODIFIER CETTE LIGNE. Cette ligne affiche la liste des positions\n",
    "print(\"La durée séparant 2 positions successives vaut: deltat =  \", deltat, \" s\") #NE PAS MODIFIER CETTE LIGNE.\n",
    "print(\"Le nombre de mesures vaut : \", nbMesures) #NE PAS MODIFIER CETTE LIGNE"
   ]
  },
  {
   "attachments": {
    "fleche.PNG": {
     "image/png": "[encoded data removed]"
    }
   },
   "cell_type": "markdown",
   "id": "380fb604",
   "metadata": {},
   "source": [
    "✍️ **Exécute le code ci-dessus en cliquant dessus puis sur la flèche en haut de la page :**\n",
    "![fleche.PNG](attachment:fleche.PNG)\n",
    "Normalement, après exécution du code ci-dessus, tu dois voir la liste des positions et $\\Delta t$ s'afficher en dessous du code. "
   ]
  },
  {
   "cell_type": "markdown",
   "id": "171860ab",
   "metadata": {},
   "source": [
    "## Etape 3 - Calculer les vitesses : \n",
    "✍️ **Complète le code ci-dessous pour calculer l'ensemble des vitesses en chaque point**"
   ]
  },
  {
   "cell_type": "code",
   "execution_count": 38,
   "id": "4b851ea1",
   "metadata": {},
   "outputs": [
    {
     "name": "stdout",
     "output_type": "stream",
     "text": [
      "Les valeurs des vitesses (en m/s) sont :  [-0.18901890189018902, -0.6150615061506152, -0.8970897089708971, -1.1791179117911792, -1.56015601560156, -1.8301830183018302, -2.2202220222022198, -2.550255025502551, -2.850285028502851, -3.030303030303028]\n"
     ]
    }
   ],
   "source": [
    "vitesses = [] #NE PAS MODIFIER CETTE LIGNE. Création d'une liste vide pour stocker les valeurs de vitesses\n",
    "for i in range(0,nbMesures-1):\n",
    "    vitesse_i = (z[i+1]-z[i])/deltat   #Modifie cette ligne pour que python calcul la vitesse entre les points Mi et Mi+1\n",
    "    vitesses.append(vitesse_i) #NE PAS MODIFIER CETTE LIGNE. Elle ajoute la vitesse calculée précédemment à la liste des vitesses\n",
    "\n",
    "print(\"Les valeurs des vitesses (en m/s) sont : \", vitesses)"
   ]
  },
  {
   "cell_type": "markdown",
   "id": "d209fc97",
   "metadata": {},
   "source": [
    "## Etape 3 - Calculer les accélérations :"
   ]
  },
  {
   "cell_type": "markdown",
   "id": "0c38e5fc",
   "metadata": {},
   "source": [
    "✍️ **Complète le code ci-dessous pour calculer les valeurs des accélérations $\\frac{\\Delta v}{\\Delta t}$**"
   ]
  },
  {
   "cell_type": "code",
   "execution_count": 41,
   "id": "3203dbd7",
   "metadata": {},
   "outputs": [
    {
     "name": "stdout",
     "output_type": "stream",
     "text": [
      "Les valeurs des accélérations (en m/s) sont :  [-12.78255638345113, -8.461692253833842, -8.461692253833846, -11.432286342945718, -8.10162024303241, -11.702340351046793, -9.901980297039644, -9.001800270036005, -5.401080162021509]\n"
     ]
    }
   ],
   "source": [
    "accelerations = [] #NE PAS MODIFIER CETTE LIGNE. Création d'une liste vide pour stocker les valeurs des accélérations\n",
    "for i in range(0,nbMesures-2): #NE PAS MODIFIER CETTE LIGNE. Elle permet de répéter les mesures pour tous les points\n",
    "    acceleration_i = (vitesses[i+1]-vitesses[i])/deltat   #Modifie cette ligne pour que python calcule la vitesse entre les points Mi et Mi+1\n",
    "    accelerations.append(acceleration_i) #NE PAS MODIFIER CETTE LIGNE. Elle ajoute la vitesse calculée précédemment à la liste des vitesses\n",
    "\n",
    "print(\"Les valeurs des accélérations (en m/s) sont : \", accelerations)#NE PAS MODIFIER CETTE LIGNE"
   ]
  },
  {
   "cell_type": "markdown",
   "id": "dcf41ca6",
   "metadata": {},
   "source": [
    "✍️ **On estime que l'incertitude des mesures précédentes est d'environ $\\pm 2 m\\cdot s^{-2}$**"
   ]
  },
  {
   "cell_type": "code",
   "execution_count": null,
   "id": "b39178a9",
   "metadata": {},
   "outputs": [],
   "source": []
  }
 ],
 "metadata": {
  "kernelspec": {
   "display_name": "Python 3 (ipykernel)",
   "language": "python",
   "name": "python3"
  },
  "language_info": {
   "codemirror_mode": {
    "name": "ipython",
    "version": 3
   },
   "file_extension": ".py",
   "mimetype": "text/x-python",
   "name": "python",
   "nbconvert_exporter": "python",
   "pygments_lexer": "ipython3",
   "version": "3.9.12"
  }
 },
 "nbformat": 4,
 "nbformat_minor": 5
}
